{
 "cells": [
  {
   "cell_type": "code",
   "execution_count": 22,
   "id": "7180f90e",
   "metadata": {},
   "outputs": [],
   "source": [
    "import pandas as pd\n",
    "import numpy as np\n",
    "from sklearn.tree import DecisionTreeClassifier  \n",
    "from sklearn.model_selection import train_test_split\n",
    "from sklearn import metrics\n",
    "import matplotlib.pyplot as plt\n",
    "import csv"
   ]
  },
  {
   "cell_type": "code",
   "execution_count": 23,
   "id": "926e6de7",
   "metadata": {
    "scrolled": true
   },
   "outputs": [],
   "source": [
    "#loading data\n",
    "file_1=\"/workspaces/State-of-Health-Estimation-Battery/Dataset/B0005_dis_dataset.csv\"\n",
    "dataset=pd.read_csv(file_1)\n"
   ]
  },
  {
   "cell_type": "code",
   "execution_count": 24,
   "id": "38300060",
   "metadata": {},
   "outputs": [],
   "source": [
    "Soh=(dataset[\"capacity\"]*100)//2\n",
    "soh=[ int(Soh[i]) for i in range(len(Soh))]"
   ]
  },
  {
   "cell_type": "code",
   "execution_count": 25,
   "id": "757eb1e4",
   "metadata": {},
   "outputs": [],
   "source": [
    "# normalising data\n",
    "dataset=dataset[[\"cycle\",\"capacity\",\"voltage_measured\",\"current_measured\",\"temperature_measured\",\"current_load\",\"voltage_load\"]]\n",
    "df_norm = (dataset-dataset.min())/(dataset.max()-dataset.min())\n",
    "att=[\"cycle\",\"temperature_measured\",\"capacity\",\"current_load\"]\n",
    "df_norm[\"Soh\"]=soh"
   ]
  },
  {
   "cell_type": "code",
   "execution_count": 26,
   "id": "953425a3",
   "metadata": {},
   "outputs": [],
   "source": [
    "X = df_norm[att]\n",
    "Y = df_norm[[\"Soh\"]]"
   ]
  },
  {
   "cell_type": "code",
   "execution_count": 27,
   "id": "0b2b3d03",
   "metadata": {},
   "outputs": [],
   "source": [
    "X_train, X_test, y_train, y_test = train_test_split(X, Y, test_size=0.3, random_state=0) "
   ]
  },
  {
   "cell_type": "code",
   "execution_count": 28,
   "id": "00e7ddbf",
   "metadata": {},
   "outputs": [],
   "source": [
    "#sorting data wrt to index\n",
    "X_test = X_test.sort_index(axis=0)\n",
    "X_train= X_train.sort_index(axis=0)\n",
    "y_train= y_train.sort_index(axis=0)\n",
    "y_test = y_test.sort_index(axis=0)"
   ]
  },
  {
   "cell_type": "code",
   "execution_count": 29,
   "id": "e713c427",
   "metadata": {},
   "outputs": [],
   "source": [
    "# Create Decision Tree classifer object\n",
    "clf = DecisionTreeClassifier()\n",
    "\n",
    "# Train Decision Tree Classifer\n",
    "clf = clf.fit(X_train,y_train)\n",
    "\n",
    "#Predict the response for test dataset\n",
    "y_pred = clf.predict(X_test[att])"
   ]
  },
  {
   "cell_type": "code",
   "execution_count": 30,
   "id": "a37051be",
   "metadata": {},
   "outputs": [],
   "source": [
    "def graph_plot(a,model):\n",
    "    plt.scatter(X_test[\"cycle\"],y_test,color='red',label='actual',s=10)\n",
    "    plt.scatter(X_test[\"cycle\"],a,color='cyan',label='dis_tree'+model,s=1)\n",
    "    plt.xlabel(\"cycle\")\n",
    "    plt.ylabel(\"SOH\")\n",
    "    rmse=\"Rmse = \"+str(np.sqrt(metrics.mean_squared_error(y_test, a)))\n",
    "    plt.figtext(0.33, -0.03, rmse, fontsize=10)\n",
    "    plt.legend(loc=\"upper right\")\n",
    "    plt.suptitle(\"Decision Tree\")\n",
    "    plt.show()\n",
    "    print(np.sqrt(metrics.mean_squared_error(y_test, a)))"
   ]
  },
  {
   "cell_type": "code",
   "execution_count": 31,
   "id": "3748d95b",
   "metadata": {},
   "outputs": [
    {
     "data": {
      "image/png": "[encoded data removed]",
      "text/plain": [
       "<Figure size 640x480 with 1 Axes>"
      ]
     },
     "metadata": {},
     "output_type": "display_data"
    },
    {
     "name": "stdout",
     "output_type": "stream",
     "text": [
      "0.0\n"
     ]
    }
   ],
   "source": [
    "graph_plot(y_pred,\"\")"
   ]
  },
  {
   "cell_type": "code",
   "execution_count": null,
   "id": "0c7423fe",
   "metadata": {},
   "outputs": [],
   "source": []
  }
 ],
 "metadata": {
  "kernelspec": {
   "display_name": "Python 3 (ipykernel)",
   "language": "python",
   "name": "python3"
  },
  "language_info": {
   "codemirror_mode": {
    "name": "ipython",
    "version": 3
   },
   "file_extension": ".py",
   "mimetype": "text/x-python",
   "name": "python",
   "nbconvert_exporter": "python",
   "pygments_lexer": "ipython3",
   "version": "3.0.0"
  }
 },
 "nbformat": 4,
 "nbformat_minor": 5
}
