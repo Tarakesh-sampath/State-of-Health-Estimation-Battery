{
 "cells": [
  {
   "cell_type": "code",
   "execution_count": 1,
   "id": "9044ac8a",
   "metadata": {},
   "outputs": [
    {
     "name": "stderr",
     "output_type": "stream",
     "text": [
      "2023-12-29 17:25:26.308859: I external/local_tsl/tsl/cuda/cudart_stub.cc:31] Could not find cuda drivers on your machine, GPU will not be used.\n",
      "2023-12-29 17:25:28.777565: E external/local_xla/xla/stream_executor/cuda/cuda_dnn.cc:9261] Unable to register cuDNN factory: Attempting to register factory for plugin cuDNN when one has already been registered\n",
      "2023-12-29 17:25:28.777670: E external/local_xla/xla/stream_executor/cuda/cuda_fft.cc:607] Unable to register cuFFT factory: Attempting to register factory for plugin cuFFT when one has already been registered\n",
      "2023-12-29 17:25:29.116182: E external/local_xla/xla/stream_executor/cuda/cuda_blas.cc:1515] Unable to register cuBLAS factory: Attempting to register factory for plugin cuBLAS when one has already been registered\n",
      "2023-12-29 17:25:29.890346: I external/local_tsl/tsl/cuda/cudart_stub.cc:31] Could not find cuda drivers on your machine, GPU will not be used.\n",
      "2023-12-29 17:25:29.893333: I tensorflow/core/platform/cpu_feature_guard.cc:182] This TensorFlow binary is optimized to use available CPU instructions in performance-critical operations.\n",
      "To enable the following instructions: AVX2 FMA, in other operations, rebuild TensorFlow with the appropriate compiler flags.\n",
      "2023-12-29 17:25:35.082008: W tensorflow/compiler/tf2tensorrt/utils/py_utils.cc:38] TF-TRT Warning: Could not find TensorRT\n"
     ]
    }
   ],
   "source": [
    "import numpy as np\n",
    "import matplotlib.pyplot as plt\n",
    "import pandas as pd\n",
    "from sklearn import metrics\n",
    "from sklearn.model_selection import train_test_split\n",
    "\n",
    "import tensorflow as tf\n",
    "from tensorflow import keras\n",
    "from keras.models import Sequential\n",
    "from keras.layers import Dense\n",
    "from keras.layers import LSTM\n",
    "from keras.layers import Dropout\n",
    "from tensorflow.keras.callbacks import EarlyStopping\n",
    "#loading data\n",
    "file_1=\"/workspaces/State-of-Health-Estimation-Battery/Dataset/B0005_dis_dataset.csv\"\n",
    "dataset=pd.read_csv(file_1)"
   ]
  },
  {
   "cell_type": "code",
   "execution_count": 2,
   "id": "654c407e",
   "metadata": {},
   "outputs": [],
   "source": [
    "att=[\"cycle\",\"temperature_measured\",\"capacity\",\"current_load\"]\n",
    "dataset[[\"Soh\"]]=dataset[[\"capacity\"]]/2"
   ]
  },
  {
   "cell_type": "code",
   "execution_count": 3,
   "id": "82d8aaa4",
   "metadata": {},
   "outputs": [],
   "source": [
    "Soh=dataset[\"capacity\"]/dataset[\"capacity\"][0]\n",
    "time=dataset[[\"time\"]]"
   ]
  },
  {
   "cell_type": "code",
   "execution_count": 4,
   "id": "e31103c6",
   "metadata": {
    "scrolled": true
   },
   "outputs": [],
   "source": [
    "# normalising data\n",
    "dataset=dataset[[\"cycle\",\"capacity\",\"voltage_measured\",\"current_measured\",\"temperature_measured\",\"current_load\",\"voltage_load\"]]\n",
    "df_norm = (dataset-dataset.min())/(dataset.max()-dataset.min())\n",
    "df_norm[\"time\"]=time\n",
    "df_norm[\"Soh\"]=Soh"
   ]
  },
  {
   "cell_type": "code",
   "execution_count": 5,
   "id": "a424cd2b",
   "metadata": {},
   "outputs": [],
   "source": [
    "att_=[\"cycle\",\"capacity\",\"voltage_measured\",\"current_measured\",\"temperature_measured\",\"current_load\",\"voltage_load\",\"time\"]\n",
    "att=[\"cycle\",\"temperature_measured\",\"capacity\",\"current_load\"]"
   ]
  },
  {
   "cell_type": "code",
   "execution_count": 6,
   "id": "a018256c",
   "metadata": {},
   "outputs": [],
   "source": [
    "X = df_norm[att]\n",
    "Y = df_norm[[\"Soh\"]]"
   ]
  },
  {
   "cell_type": "code",
   "execution_count": 7,
   "id": "1c5da867",
   "metadata": {},
   "outputs": [],
   "source": [
    "X_train, X_test, y_train, y_test = train_test_split(X, Y, test_size=0.3, random_state=0)"
   ]
  },
  {
   "cell_type": "code",
   "execution_count": 8,
   "id": "8910210d",
   "metadata": {},
   "outputs": [],
   "source": [
    "#sorting data wrt to index\n",
    "X_test = X_test.sort_index(axis=0)\n",
    "X_train= X_train.sort_index(axis=0)\n",
    "y_train= y_train.sort_index(axis=0)\n",
    "y_test = y_test.sort_index(axis=0)"
   ]
  },
  {
   "cell_type": "code",
   "execution_count": 27,
   "id": "7ef61331",
   "metadata": {},
   "outputs": [
    {
     "name": "stdout",
     "output_type": "stream",
     "text": [
      "Model: \"sequential_6\"\n",
      "_________________________________________________________________\n",
      " Layer (type)                Output Shape              Param #   \n",
      "=================================================================\n",
      " lstm_15 (LSTM)              (None, 4, 128)            66560     \n",
      "                                                                 \n",
      " dropout_12 (Dropout)        (None, 4, 128)            0         \n",
      "                                                                 \n",
      " lstm_16 (LSTM)              (None, 4, 64)             49408     \n",
      "                                                                 \n",
      " dropout_13 (Dropout)        (None, 4, 64)             0         \n",
      "                                                                 \n",
      " lstm_17 (LSTM)              (None, 64)                33024     \n",
      "                                                                 \n",
      " dropout_14 (Dropout)        (None, 64)                0         \n",
      "                                                                 \n",
      " dense_2 (Dense)             (None, 1)                 65        \n",
      "                                                                 \n",
      "=================================================================\n",
      "Total params: 149057 (582.25 KB)\n",
      "Trainable params: 149057 (582.25 KB)\n",
      "Non-trainable params: 0 (0.00 Byte)\n",
      "_________________________________________________________________\n"
     ]
    }
   ],
   "source": [
    "#define lstm model we have 4 input variable so 3 layers\n",
    "#model.add(LSTM(128, activation='tanh',recurrent_activation='sigmoid',return_sequences=True,input_shape=(X_train.shape[1],1)))\n",
    "# Build the LSTM model\n",
    "model = Sequential()\n",
    "model.add(LSTM(128, activation='tanh', recurrent_activation='sigmoid', return_sequences=True, input_shape=(X_train.shape[1],1)))\n",
    "model.add(Dropout(0.25))\n",
    "model.add(LSTM(64, return_sequences=True))\n",
    "model.add(Dropout(0.25))\n",
    "model.add(LSTM(64))\n",
    "model.add(Dropout(0.25))\n",
    "model.add(Dense(1))\n",
    "\n",
    "model.compile(optimizer='adam', loss='mse')\n",
    "model.summary()"
   ]
  },
  {
   "cell_type": "code",
   "execution_count": 28,
   "id": "871a8ac5",
   "metadata": {},
   "outputs": [],
   "source": [
    "early_stopping = EarlyStopping(monitor='val_loss', patience=10, restore_best_weights=True)"
   ]
  },
  {
   "cell_type": "code",
   "execution_count": 29,
   "id": "4a51f5ce",
   "metadata": {
    "scrolled": false
   },
   "outputs": [
    {
     "name": "stdout",
     "output_type": "stream",
     "text": [
      "Epoch 1/200\n"
     ]
    },
    {
     "name": "stdout",
     "output_type": "stream",
     "text": [
      "1408/1408 [==============================] - 16s 9ms/step - loss: 0.0126 - val_loss: 1.0501e-04\n",
      "Epoch 2/200\n",
      "1408/1408 [==============================] - 11s 8ms/step - loss: 0.0031 - val_loss: 6.1213e-04\n",
      "Epoch 3/200\n",
      "1408/1408 [==============================] - 11s 8ms/step - loss: 0.0019 - val_loss: 7.3073e-04\n",
      "Epoch 4/200\n",
      "1408/1408 [==============================] - 11s 8ms/step - loss: 9.9642e-04 - val_loss: 9.3408e-05\n",
      "Epoch 5/200\n",
      "1408/1408 [==============================] - 11s 8ms/step - loss: 4.3267e-04 - val_loss: 2.2587e-04\n",
      "Epoch 6/200\n",
      "1408/1408 [==============================] - 11s 8ms/step - loss: 2.1619e-04 - val_loss: 6.2492e-05\n",
      "Epoch 7/200\n",
      "1408/1408 [==============================] - 11s 8ms/step - loss: 1.6033e-04 - val_loss: 5.9523e-05\n",
      "Epoch 8/200\n",
      "1408/1408 [==============================] - 11s 8ms/step - loss: 1.4173e-04 - val_loss: 1.0057e-04\n",
      "Epoch 9/200\n",
      "1408/1408 [==============================] - 11s 8ms/step - loss: 1.2723e-04 - val_loss: 6.5632e-05\n",
      "Epoch 10/200\n",
      "1408/1408 [==============================] - 11s 8ms/step - loss: 1.1119e-04 - val_loss: 7.2374e-05\n",
      "Epoch 11/200\n",
      "1408/1408 [==============================] - 11s 8ms/step - loss: 9.4248e-05 - val_loss: 3.7019e-05\n",
      "Epoch 12/200\n",
      "1408/1408 [==============================] - 11s 8ms/step - loss: 8.6765e-05 - val_loss: 5.3009e-05\n",
      "Epoch 13/200\n",
      "1408/1408 [==============================] - 11s 8ms/step - loss: 8.0906e-05 - val_loss: 2.2961e-05\n",
      "Epoch 14/200\n",
      "1408/1408 [==============================] - 11s 8ms/step - loss: 8.0379e-05 - val_loss: 5.5855e-05\n",
      "Epoch 15/200\n",
      "1408/1408 [==============================] - 11s 8ms/step - loss: 7.8826e-05 - val_loss: 6.9717e-05\n",
      "Epoch 16/200\n",
      "1408/1408 [==============================] - 11s 8ms/step - loss: 7.6175e-05 - val_loss: 2.9918e-05\n",
      "Epoch 17/200\n",
      "1408/1408 [==============================] - 11s 8ms/step - loss: 7.3667e-05 - val_loss: 2.5867e-05\n",
      "Epoch 18/200\n",
      "1408/1408 [==============================] - 11s 8ms/step - loss: 7.3421e-05 - val_loss: 4.4969e-05\n",
      "Epoch 19/200\n",
      "1408/1408 [==============================] - 11s 8ms/step - loss: 7.1994e-05 - val_loss: 9.9573e-05\n",
      "Epoch 20/200\n",
      "1408/1408 [==============================] - 11s 8ms/step - loss: 7.1192e-05 - val_loss: 6.6473e-05\n",
      "Epoch 21/200\n",
      "1408/1408 [==============================] - 11s 8ms/step - loss: 7.0104e-05 - val_loss: 3.3684e-05\n",
      "Epoch 22/200\n",
      "1408/1408 [==============================] - 11s 8ms/step - loss: 6.9308e-05 - val_loss: 2.5892e-05\n",
      "Epoch 23/200\n",
      "1408/1408 [==============================] - 11s 8ms/step - loss: 6.8229e-05 - val_loss: 2.7360e-05\n"
     ]
    },
    {
     "data": {
      "text/plain": [
       "<keras.src.callbacks.History at 0x7ffb4505f940>"
      ]
     },
     "execution_count": 29,
     "metadata": {},
     "output_type": "execute_result"
    }
   ],
   "source": [
    "model.fit(X_train, y_train, epochs=200,batch_size=20, verbose=1,validation_split=0.2, callbacks=[early_stopping])"
   ]
  },
  {
   "cell_type": "code",
   "execution_count": 30,
   "id": "80992531",
   "metadata": {
    "scrolled": false
   },
   "outputs": [
    {
     "name": "stdout",
     "output_type": "stream",
     "text": [
      "472/472 [==============================] - 2s 3ms/step\n"
     ]
    }
   ],
   "source": [
    "y_pred_1 = model.predict(X_test, verbose=1)"
   ]
  },
  {
   "cell_type": "code",
   "execution_count": 31,
   "id": "2ae95a89",
   "metadata": {},
   "outputs": [
    {
     "data": {
      "text/plain": [
       "array([[0.99115527],\n",
       "       [0.9894551 ],\n",
       "       [0.9895832 ],\n",
       "       ...,\n",
       "       [0.6997374 ],\n",
       "       [0.6997529 ],\n",
       "       [0.6998334 ]], dtype=float32)"
      ]
     },
     "execution_count": 31,
     "metadata": {},
     "output_type": "execute_result"
    }
   ],
   "source": [
    "y_pred_1"
   ]
  },
  {
   "cell_type": "code",
   "execution_count": 14,
   "id": "d972c045",
   "metadata": {
    "scrolled": true
   },
   "outputs": [
    {
     "data": {
      "image/png": "[encoded data removed]",
      "text/plain": [
       "<Figure size 640x480 with 1 Axes>"
      ]
     },
     "metadata": {},
     "output_type": "display_data"
    },
    {
     "name": "stdout",
     "output_type": "stream",
     "text": [
      "0.008122812329388832\n"
     ]
    }
   ],
   "source": [
    "plt.plot(X_test[\"cycle\"],y_test,color='red',label='actual',linewidth=4)\n",
    "plt.plot(X_test[\"cycle\"],y_pred_1,color='cyan',label=\"lstm\",linewidth=1)\n",
    "plt.xlabel(\"cycle\")\n",
    "plt.ylabel(\"SOH\")\n",
    "rmse=\"Rmse = \"+str(np.sqrt(metrics.mean_squared_error(y_test, y_pred_1)))\n",
    "plt.figtext(0.33, -0.03, rmse, fontsize=10)\n",
    "plt.legend(loc=\"upper right\")\n",
    "plt.suptitle(\"Lstm\")\n",
    "plt.show()\n",
    "print(np.sqrt(metrics.mean_squared_error(y_test, y_pred_1)))"
   ]
  },
  {
   "cell_type": "code",
   "execution_count": null,
   "id": "a90ee103",
   "metadata": {},
   "outputs": [],
   "source": []
  }
 ],
 "metadata": {
  "kernelspec": {
   "display_name": "Python 3 (ipykernel)",
   "language": "python",
   "name": "python3"
  },
  "language_info": {
   "codemirror_mode": {
    "name": "ipython",
    "version": 3
   },
   "file_extension": ".py",
   "mimetype": "text/x-python",
   "name": "python",
   "nbconvert_exporter": "python",
   "pygments_lexer": "ipython3",
   "version": "3.10.13"
  }
 },
 "nbformat": 4,
 "nbformat_minor": 5
}
