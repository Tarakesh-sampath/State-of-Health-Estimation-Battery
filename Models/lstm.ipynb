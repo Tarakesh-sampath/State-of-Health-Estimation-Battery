{
 "cells": [
  {
   "cell_type": "code",
   "execution_count": 1,
   "id": "9044ac8a",
   "metadata": {},
   "outputs": [
    {
     "name": "stderr",
     "output_type": "stream",
     "text": [
      "2023-12-28 16:47:10.392078: E external/local_xla/xla/stream_executor/cuda/cuda_dnn.cc:9261] Unable to register cuDNN factory: Attempting to register factory for plugin cuDNN when one has already been registered\n",
      "2023-12-28 16:47:10.392143: E external/local_xla/xla/stream_executor/cuda/cuda_fft.cc:607] Unable to register cuFFT factory: Attempting to register factory for plugin cuFFT when one has already been registered\n",
      "2023-12-28 16:47:10.394776: E external/local_xla/xla/stream_executor/cuda/cuda_blas.cc:1515] Unable to register cuBLAS factory: Attempting to register factory for plugin cuBLAS when one has already been registered\n",
      "2023-12-28 16:47:10.404998: I tensorflow/core/platform/cpu_feature_guard.cc:182] This TensorFlow binary is optimized to use available CPU instructions in performance-critical operations.\n",
      "To enable the following instructions: AVX2 FMA, in other operations, rebuild TensorFlow with the appropriate compiler flags.\n",
      "2023-12-28 16:47:11.547930: W tensorflow/compiler/tf2tensorrt/utils/py_utils.cc:38] TF-TRT Warning: Could not find TensorRT\n"
     ]
    }
   ],
   "source": [
    "import numpy as np\n",
    "import matplotlib.pyplot as plt\n",
    "import pandas as pd\n",
    "from sklearn import metrics\n",
    "from sklearn.model_selection import train_test_split\n",
    "\n",
    "import tensorflow as tf\n",
    "from tensorflow import keras\n",
    "from keras.models import Sequential\n",
    "from keras.layers import Dense\n",
    "from keras.layers import LSTM\n",
    "from keras.layers import Dropout\n",
    "from tensorflow.keras.callbacks import EarlyStopping\n",
    "#loading data\n",
    "file_1=\"/workspaces/State-of-Health-Estimation-Battery/Dataset/B0005_dis_dataset.csv\"\n",
    "dataset=pd.read_csv(file_1)"
   ]
  },
  {
   "cell_type": "code",
   "execution_count": 2,
   "id": "654c407e",
   "metadata": {},
   "outputs": [],
   "source": [
    "att=[\"cycle\",\"temperature_measured\",\"capacity\",\"current_load\"]\n",
    "dataset[[\"Soh\"]]=dataset[[\"capacity\"]]/2"
   ]
  },
  {
   "cell_type": "code",
   "execution_count": 3,
   "id": "82d8aaa4",
   "metadata": {},
   "outputs": [],
   "source": [
    "Soh=dataset[\"capacity\"]/dataset[\"capacity\"][0]\n",
    "time=dataset[[\"time\"]]"
   ]
  },
  {
   "cell_type": "code",
   "execution_count": 4,
   "id": "e31103c6",
   "metadata": {
    "scrolled": true
   },
   "outputs": [],
   "source": [
    "# normalising data\n",
    "dataset=dataset[[\"cycle\",\"capacity\",\"voltage_measured\",\"current_measured\",\"temperature_measured\",\"current_load\",\"voltage_load\"]]\n",
    "df_norm = (dataset-dataset.min())/(dataset.max()-dataset.min())\n",
    "df_norm[\"time\"]=time\n",
    "df_norm[\"Soh\"]=Soh"
   ]
  },
  {
   "cell_type": "code",
   "execution_count": 5,
   "id": "a424cd2b",
   "metadata": {},
   "outputs": [],
   "source": [
    "att_=[\"cycle\",\"capacity\",\"voltage_measured\",\"current_measured\",\"temperature_measured\",\"current_load\",\"voltage_load\",\"time\"]\n",
    "att=[\"cycle\",\"temperature_measured\",\"capacity\",\"current_load\"]"
   ]
  },
  {
   "cell_type": "code",
   "execution_count": 6,
   "id": "a018256c",
   "metadata": {},
   "outputs": [],
   "source": [
    "X = df_norm[att]\n",
    "Y = df_norm[[\"Soh\"]]"
   ]
  },
  {
   "cell_type": "code",
   "execution_count": 7,
   "id": "1c5da867",
   "metadata": {},
   "outputs": [],
   "source": [
    "X = df_norm[att]\n",
    "Y = df_norm[[\"Soh\"]] "
   ]
  },
  {
   "cell_type": "code",
   "execution_count": 8,
   "id": "8910210d",
   "metadata": {},
   "outputs": [],
   "source": [
    "#sorting data wrt to index\n",
    "X_test = X_test.sort_index(axis=0)\n",
    "X_train= X_train.sort_index(axis=0)\n",
    "y_train= y_train.sort_index(axis=0)\n",
    "y_test = y_test.sort_index(axis=0)"
   ]
  },
  {
   "cell_type": "code",
   "execution_count": 9,
   "id": "7ef61331",
   "metadata": {},
   "outputs": [
    {
     "name": "stdout",
     "output_type": "stream",
     "text": [
      "Model: \"sequential\"\n",
      "_________________________________________________________________\n",
      " Layer (type)                Output Shape              Param #   \n",
      "=================================================================\n",
      " lstm (LSTM)                 (None, 4, 128)            66560     \n",
      "                                                                 \n",
      " dropout (Dropout)           (None, 4, 128)            0         \n",
      "                                                                 \n",
      " lstm_1 (LSTM)               (None, 4, 64)             49408     \n",
      "                                                                 \n",
      " dropout_1 (Dropout)         (None, 4, 64)             0         \n",
      "                                                                 \n",
      " lstm_2 (LSTM)               (None, 4, 64)             33024     \n",
      "                                                                 \n",
      " dropout_2 (Dropout)         (None, 4, 64)             0         \n",
      "                                                                 \n",
      " dense (Dense)               (None, 4, 1)              65        \n",
      "                                                                 \n",
      "=================================================================\n",
      "Total params: 149057 (582.25 KB)\n",
      "Trainable params: 149057 (582.25 KB)\n",
      "Non-trainable params: 0 (0.00 Byte)\n",
      "_________________________________________________________________\n"
     ]
    }
   ],
   "source": [
    "#define lstm model we have 4 input variable so 3 layers\n",
    "model = Sequential()\n",
    "model.add(LSTM(128, activation='tanh',recurrent_activation='sigmoid',return_sequences=True,input_shape=(X_train.shape[1],1)))\n",
    "model.add(Dropout(0.25))\n",
    "model.add(LSTM(64,return_sequences=True))\n",
    "model.add(Dropout(0.25))\n",
    "model.add(LSTM(64,return_sequences=True))\n",
    "model.add(Dropout(0.25))\n",
    "model.add(Dense(1))\n",
    "model.compile(optimizer='adam', loss='mse')\n",
    "model.summary()"
   ]
  },
  {
   "cell_type": "code",
   "execution_count": 10,
   "id": "871a8ac5",
   "metadata": {},
   "outputs": [],
   "source": [
    "early_stopping = EarlyStopping(monitor='val_loss', patience=10, restore_best_weights=True)"
   ]
  },
  {
   "cell_type": "code",
   "execution_count": 11,
   "id": "4a51f5ce",
   "metadata": {
    "scrolled": false
   },
   "outputs": [
    {
     "name": "stdout",
     "output_type": "stream",
     "text": [
      "Epoch 1/200\n"
     ]
    },
    {
     "name": "stdout",
     "output_type": "stream",
     "text": [
      "1408/1408 [==============================] - 21s 12ms/step - loss: 0.0223 - val_loss: 2.7803e-04\n",
      "Epoch 2/200\n",
      "1408/1408 [==============================] - 11s 8ms/step - loss: 0.0032 - val_loss: 2.7358e-04\n",
      "Epoch 3/200\n",
      "1408/1408 [==============================] - 11s 8ms/step - loss: 0.0020 - val_loss: 0.0012\n",
      "Epoch 4/200\n",
      "1408/1408 [==============================] - 11s 8ms/step - loss: 0.0010 - val_loss: 7.6445e-04\n",
      "Epoch 5/200\n",
      "1408/1408 [==============================] - 11s 8ms/step - loss: 4.6105e-04 - val_loss: 4.4483e-04\n",
      "Epoch 6/200\n",
      "1408/1408 [==============================] - 11s 8ms/step - loss: 2.4855e-04 - val_loss: 1.3607e-04\n",
      "Epoch 7/200\n",
      "1408/1408 [==============================] - 11s 8ms/step - loss: 1.7847e-04 - val_loss: 1.3065e-04\n",
      "Epoch 8/200\n",
      "1408/1408 [==============================] - 11s 8ms/step - loss: 1.5672e-04 - val_loss: 1.9608e-04\n",
      "Epoch 9/200\n",
      "1408/1408 [==============================] - 11s 8ms/step - loss: 1.4792e-04 - val_loss: 6.3665e-05\n",
      "Epoch 10/200\n",
      "1408/1408 [==============================] - 11s 8ms/step - loss: 1.4117e-04 - val_loss: 1.1847e-04\n",
      "Epoch 11/200\n",
      "1408/1408 [==============================] - 11s 8ms/step - loss: 1.3504e-04 - val_loss: 1.3359e-04\n",
      "Epoch 12/200\n",
      "1408/1408 [==============================] - 11s 8ms/step - loss: 1.3176e-04 - val_loss: 6.9050e-05\n",
      "Epoch 13/200\n",
      "1408/1408 [==============================] - 11s 8ms/step - loss: 1.3082e-04 - val_loss: 1.5694e-04\n",
      "Epoch 14/200\n",
      "1408/1408 [==============================] - 11s 8ms/step - loss: 1.2771e-04 - val_loss: 1.1418e-04\n",
      "Epoch 15/200\n",
      "1408/1408 [==============================] - 11s 8ms/step - loss: 1.2563e-04 - val_loss: 6.9601e-05\n",
      "Epoch 16/200\n",
      "1408/1408 [==============================] - 11s 8ms/step - loss: 1.2339e-04 - val_loss: 1.4104e-04\n",
      "Epoch 17/200\n",
      "1408/1408 [==============================] - 11s 7ms/step - loss: 1.1956e-04 - val_loss: 2.8479e-04\n",
      "Epoch 18/200\n",
      "1408/1408 [==============================] - 10s 7ms/step - loss: 1.1611e-04 - val_loss: 3.7464e-04\n",
      "Epoch 19/200\n",
      "1408/1408 [==============================] - 11s 8ms/step - loss: 1.1244e-04 - val_loss: 4.5046e-04\n"
     ]
    },
    {
     "data": {
      "text/plain": [
       "<keras.src.callbacks.History at 0x7f20e5f910c0>"
      ]
     },
     "execution_count": 11,
     "metadata": {},
     "output_type": "execute_result"
    }
   ],
   "source": [
    "model.fit(X_train, y_train, epochs=200,batch_size=20, verbose=1,validation_split=0.2, callbacks=[early_stopping])"
   ]
  },
  {
   "cell_type": "code",
   "execution_count": 12,
   "id": "80992531",
   "metadata": {
    "scrolled": false
   },
   "outputs": [
    {
     "name": "stdout",
     "output_type": "stream",
     "text": [
      "472/472 [==============================] - 2s 3ms/step\n"
     ]
    }
   ],
   "source": [
    "y_pred_1 = model.predict(X_test, verbose=1)"
   ]
  },
  {
   "cell_type": "code",
   "execution_count": 13,
   "id": "2ae95a89",
   "metadata": {},
   "outputs": [
    {
     "name": "stderr",
     "output_type": "stream",
     "text": [
      "/tmp/ipykernel_38068/480392800.py:1: DeprecationWarning: Conversion of an array with ndim > 0 to a scalar is deprecated, and will error in future. Ensure you extract a single element from your array before performing this operation. (Deprecated NumPy 1.25.)\n",
      "  y_pred_1=[ float(sum(i)/4) for i in y_pred_1 ]\n"
     ]
    }
   ],
   "source": [
    "y_pred_1=[ float(sum(i)/4) for i in y_pred_1 ]"
   ]
  },
  {
   "cell_type": "code",
   "execution_count": 15,
   "id": "d972c045",
   "metadata": {
    "scrolled": true
   },
   "outputs": [
    {
     "data": {
      "image/png": "[encoded data removed]",
      "text/plain": [
       "<Figure size 640x480 with 1 Axes>"
      ]
     },
     "metadata": {},
     "output_type": "display_data"
    },
    {
     "name": "stdout",
     "output_type": "stream",
     "text": [
      "0.008186195051131653\n"
     ]
    }
   ],
   "source": [
    "plt.plot(X_test[\"cycle\"],y_test,color='red',label='actual',linewidth=4)\n",
    "plt.plot(X_test[\"cycle\"],y_pred_1,color='cyan',label=\"lstm\",linewidth=1)\n",
    "plt.xlabel(\"cycle\")\n",
    "plt.ylabel(\"SOH\")\n",
    "rmse=\"Rmse = \"+str(np.sqrt(metrics.mean_squared_error(y_test, y_pred_1)))\n",
    "plt.figtext(0.33, -0.03, rmse, fontsize=10)\n",
    "plt.legend(loc=\"upper right\")\n",
    "plt.suptitle(\"Lstm\")\n",
    "plt.show()\n",
    "print(np.sqrt(metrics.mean_squared_error(y_test, y_pred_1)))"
   ]
  },
  {
   "cell_type": "code",
   "execution_count": null,
   "id": "a90ee103",
   "metadata": {},
   "outputs": [],
   "source": []
  }
 ],
 "metadata": {
  "kernelspec": {
   "display_name": "Python 3 (ipykernel)",
   "language": "python",
   "name": "python3"
  },
  "language_info": {
   "codemirror_mode": {
    "name": "ipython",
    "version": 3
   },
   "file_extension": ".py",
   "mimetype": "text/x-python",
   "name": "python",
   "nbconvert_exporter": "python",
   "pygments_lexer": "ipython3",
   "version": "3.10.13"
  }
 },
 "nbformat": 4,
 "nbformat_minor": 5
}
