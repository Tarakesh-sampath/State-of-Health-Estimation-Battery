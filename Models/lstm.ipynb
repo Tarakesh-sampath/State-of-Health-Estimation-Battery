{
 "cells": [
  {
   "cell_type": "code",
   "execution_count": 1,
   "id": "76eef14d",
   "metadata": {},
   "outputs": [
    {
     "name": "stdout",
     "output_type": "stream",
     "text": [
      "Collecting tensorflow\n",
      "  Downloading tensorflow-2.15.0.post1-cp310-cp310-manylinux_2_17_x86_64.manylinux2014_x86_64.whl.metadata (4.2 kB)\n",
      "Collecting absl-py>=1.0.0 (from tensorflow)\n",
      "  Downloading absl_py-2.0.0-py3-none-any.whl.metadata (2.3 kB)\n",
      "Collecting astunparse>=1.6.0 (from tensorflow)\n",
      "  Downloading astunparse-1.6.3-py2.py3-none-any.whl (12 kB)\n",
      "Collecting flatbuffers>=23.5.26 (from tensorflow)\n",
      "  Downloading flatbuffers-23.5.26-py2.py3-none-any.whl.metadata (850 bytes)\n",
      "Collecting gast!=0.5.0,!=0.5.1,!=0.5.2,>=0.2.1 (from tensorflow)\n",
      "  Downloading gast-0.5.4-py3-none-any.whl (19 kB)\n",
      "Collecting google-pasta>=0.1.1 (from tensorflow)\n",
      "  Downloading google_pasta-0.2.0-py3-none-any.whl (57 kB)\n",
      "\u001b[2K     \u001b[90m━━━━━━━━━━━━━━━━━━━━━━━━━━━━━━━━━━━━━━━\u001b[0m \u001b[32m57.5/57.5 kB\u001b[0m \u001b[31m535.5 kB/s\u001b[0m eta \u001b[36m0:00:00\u001b[0ma \u001b[36m0:00:01\u001b[0m\n",
      "\u001b[?25hCollecting h5py>=2.9.0 (from tensorflow)\n",
      "  Downloading h5py-3.10.0-cp310-cp310-manylinux_2_17_x86_64.manylinux2014_x86_64.whl.metadata (2.5 kB)\n",
      "Collecting libclang>=13.0.0 (from tensorflow)\n",
      "  Downloading libclang-16.0.6-py2.py3-none-manylinux2010_x86_64.whl.metadata (5.2 kB)\n",
      "Collecting ml-dtypes~=0.2.0 (from tensorflow)\n",
      "  Downloading ml_dtypes-0.2.0-cp310-cp310-manylinux_2_17_x86_64.manylinux2014_x86_64.whl.metadata (20 kB)\n",
      "Requirement already satisfied: numpy<2.0.0,>=1.23.5 in /home/codespace/.local/lib/python3.10/site-packages (from tensorflow) (1.26.2)\n",
      "Collecting opt-einsum>=2.3.2 (from tensorflow)\n",
      "  Downloading opt_einsum-3.3.0-py3-none-any.whl (65 kB)\n",
      "\u001b[2K     \u001b[90m━━━━━━━━━━━━━━━━━━━━━━━━━━━━━━━━━━━━━━━━\u001b[0m \u001b[32m65.5/65.5 kB\u001b[0m \u001b[31m1.1 MB/s\u001b[0m eta \u001b[36m0:00:00\u001b[0ma \u001b[36m0:00:01\u001b[0m\n",
      "\u001b[?25hRequirement already satisfied: packaging in /home/codespace/.local/lib/python3.10/site-packages (from tensorflow) (23.2)\n",
      "Collecting protobuf!=4.21.0,!=4.21.1,!=4.21.2,!=4.21.3,!=4.21.4,!=4.21.5,<5.0.0dev,>=3.20.3 (from tensorflow)\n",
      "  Downloading protobuf-4.25.1-cp37-abi3-manylinux2014_x86_64.whl.metadata (541 bytes)\n",
      "Requirement already satisfied: setuptools in /usr/local/python/3.10.13/lib/python3.10/site-packages (from tensorflow) (68.2.2)\n",
      "Requirement already satisfied: six>=1.12.0 in /home/codespace/.local/lib/python3.10/site-packages (from tensorflow) (1.16.0)\n",
      "Collecting termcolor>=1.1.0 (from tensorflow)\n",
      "  Downloading termcolor-2.4.0-py3-none-any.whl.metadata (6.1 kB)\n",
      "Requirement already satisfied: typing-extensions>=3.6.6 in /home/codespace/.local/lib/python3.10/site-packages (from tensorflow) (4.8.0)\n",
      "Collecting wrapt<1.15,>=1.11.0 (from tensorflow)\n",
      "  Downloading wrapt-1.14.1-cp310-cp310-manylinux_2_5_x86_64.manylinux1_x86_64.manylinux_2_17_x86_64.manylinux2014_x86_64.whl (77 kB)\n",
      "\u001b[2K     \u001b[90m━━━━━━━━━━━━━━━━━━━━━━━━━━━━━━━━━━━━━━━━\u001b[0m \u001b[32m77.9/77.9 kB\u001b[0m \u001b[31m1.3 MB/s\u001b[0m eta \u001b[36m0:00:00\u001b[0ma \u001b[36m0:00:01\u001b[0m\n",
      "\u001b[?25hCollecting tensorflow-io-gcs-filesystem>=0.23.1 (from tensorflow)\n",
      "  Downloading tensorflow_io_gcs_filesystem-0.35.0-cp310-cp310-manylinux_2_17_x86_64.manylinux2014_x86_64.whl.metadata (14 kB)\n",
      "Collecting grpcio<2.0,>=1.24.3 (from tensorflow)\n",
      "  Downloading grpcio-1.60.0-cp310-cp310-manylinux_2_17_x86_64.manylinux2014_x86_64.whl.metadata (4.0 kB)\n",
      "Collecting tensorboard<2.16,>=2.15 (from tensorflow)\n",
      "  Downloading tensorboard-2.15.1-py3-none-any.whl.metadata (1.7 kB)\n",
      "Collecting tensorflow-estimator<2.16,>=2.15.0 (from tensorflow)\n",
      "  Downloading tensorflow_estimator-2.15.0-py2.py3-none-any.whl.metadata (1.3 kB)\n",
      "Collecting keras<2.16,>=2.15.0 (from tensorflow)\n",
      "  Downloading keras-2.15.0-py3-none-any.whl.metadata (2.4 kB)\n",
      "Collecting wheel<1.0,>=0.23.0 (from astunparse>=1.6.0->tensorflow)\n",
      "  Downloading wheel-0.42.0-py3-none-any.whl.metadata (2.2 kB)\n",
      "Collecting google-auth<3,>=1.6.3 (from tensorboard<2.16,>=2.15->tensorflow)\n",
      "  Downloading google_auth-2.26.1-py2.py3-none-any.whl.metadata (4.7 kB)\n",
      "Collecting google-auth-oauthlib<2,>=0.5 (from tensorboard<2.16,>=2.15->tensorflow)\n",
      "  Downloading google_auth_oauthlib-1.2.0-py2.py3-none-any.whl.metadata (2.7 kB)\n",
      "Collecting markdown>=2.6.8 (from tensorboard<2.16,>=2.15->tensorflow)\n",
      "  Downloading Markdown-3.5.1-py3-none-any.whl.metadata (7.1 kB)\n",
      "Collecting protobuf!=4.21.0,!=4.21.1,!=4.21.2,!=4.21.3,!=4.21.4,!=4.21.5,<5.0.0dev,>=3.20.3 (from tensorflow)\n",
      "  Downloading protobuf-4.23.4-cp37-abi3-manylinux2014_x86_64.whl.metadata (540 bytes)\n",
      "Requirement already satisfied: requests<3,>=2.21.0 in /home/codespace/.local/lib/python3.10/site-packages (from tensorboard<2.16,>=2.15->tensorflow) (2.31.0)\n",
      "Collecting tensorboard-data-server<0.8.0,>=0.7.0 (from tensorboard<2.16,>=2.15->tensorflow)\n",
      "  Downloading tensorboard_data_server-0.7.2-py3-none-manylinux_2_31_x86_64.whl.metadata (1.1 kB)\n",
      "Collecting werkzeug>=1.0.1 (from tensorboard<2.16,>=2.15->tensorflow)\n",
      "  Downloading werkzeug-3.0.1-py3-none-any.whl.metadata (4.1 kB)\n",
      "Collecting cachetools<6.0,>=2.0.0 (from google-auth<3,>=1.6.3->tensorboard<2.16,>=2.15->tensorflow)\n",
      "  Downloading cachetools-5.3.2-py3-none-any.whl.metadata (5.2 kB)\n",
      "Collecting pyasn1-modules>=0.2.1 (from google-auth<3,>=1.6.3->tensorboard<2.16,>=2.15->tensorflow)\n",
      "  Downloading pyasn1_modules-0.3.0-py2.py3-none-any.whl (181 kB)\n",
      "\u001b[2K     \u001b[90m━━━━━━━━━━━━━━━━━━━━━━━━━━━━━━━━━━━━━━━\u001b[0m \u001b[32m181.3/181.3 kB\u001b[0m \u001b[31m1.9 MB/s\u001b[0m eta \u001b[36m0:00:00\u001b[0ma \u001b[36m0:00:01\u001b[0m\n",
      "\u001b[?25hCollecting rsa<5,>=3.1.4 (from google-auth<3,>=1.6.3->tensorboard<2.16,>=2.15->tensorflow)\n",
      "  Downloading rsa-4.9-py3-none-any.whl (34 kB)\n",
      "Collecting requests-oauthlib>=0.7.0 (from google-auth-oauthlib<2,>=0.5->tensorboard<2.16,>=2.15->tensorflow)\n",
      "  Downloading requests_oauthlib-1.3.1-py2.py3-none-any.whl (23 kB)\n",
      "Requirement already satisfied: charset-normalizer<4,>=2 in /home/codespace/.local/lib/python3.10/site-packages (from requests<3,>=2.21.0->tensorboard<2.16,>=2.15->tensorflow) (3.3.2)\n",
      "Requirement already satisfied: idna<4,>=2.5 in /home/codespace/.local/lib/python3.10/site-packages (from requests<3,>=2.21.0->tensorboard<2.16,>=2.15->tensorflow) (3.6)\n",
      "Requirement already satisfied: urllib3<3,>=1.21.1 in /usr/local/python/3.10.13/lib/python3.10/site-packages (from requests<3,>=2.21.0->tensorboard<2.16,>=2.15->tensorflow) (2.0.7)\n",
      "Requirement already satisfied: certifi>=2017.4.17 in /home/codespace/.local/lib/python3.10/site-packages (from requests<3,>=2.21.0->tensorboard<2.16,>=2.15->tensorflow) (2023.11.17)\n",
      "Requirement already satisfied: MarkupSafe>=2.1.1 in /home/codespace/.local/lib/python3.10/site-packages (from werkzeug>=1.0.1->tensorboard<2.16,>=2.15->tensorflow) (2.1.3)\n",
      "Collecting pyasn1<0.6.0,>=0.4.6 (from pyasn1-modules>=0.2.1->google-auth<3,>=1.6.3->tensorboard<2.16,>=2.15->tensorflow)\n",
      "  Downloading pyasn1-0.5.1-py2.py3-none-any.whl.metadata (8.6 kB)\n",
      "Collecting oauthlib>=3.0.0 (from requests-oauthlib>=0.7.0->google-auth-oauthlib<2,>=0.5->tensorboard<2.16,>=2.15->tensorflow)\n",
      "  Downloading oauthlib-3.2.2-py3-none-any.whl (151 kB)\n",
      "\u001b[2K     \u001b[90m━━━━━━━━━━━━━━━━━━━━━━━━━━━━━━━━━━━━━━━\u001b[0m \u001b[32m151.7/151.7 kB\u001b[0m \u001b[31m2.8 MB/s\u001b[0m eta \u001b[36m0:00:00\u001b[0ma \u001b[36m0:00:01\u001b[0m\n",
      "\u001b[?25hDownloading tensorflow-2.15.0.post1-cp310-cp310-manylinux_2_17_x86_64.manylinux2014_x86_64.whl (475.2 MB)\n",
      "\u001b[2K   \u001b[90m━━━━━━━━━━━━━━━━━━━━━━━━━━━━━━━━━━━━━━━━\u001b[0m \u001b[32m475.2/475.2 MB\u001b[0m \u001b[31m4.1 MB/s\u001b[0m eta \u001b[36m0:00:00\u001b[0m:00:01\u001b[0m00:01\u001b[0m\n",
      "\u001b[?25hDownloading absl_py-2.0.0-py3-none-any.whl (130 kB)\n",
      "\u001b[2K   \u001b[90m━━━━━━━━━━━━━━━━━━━━━━━━━━━━━━━━━━━━━━━━\u001b[0m \u001b[32m130.2/130.2 kB\u001b[0m \u001b[31m2.9 MB/s\u001b[0m eta \u001b[36m0:00:00\u001b[0mta \u001b[36m0:00:01\u001b[0m\n",
      "\u001b[?25hDownloading flatbuffers-23.5.26-py2.py3-none-any.whl (26 kB)\n",
      "Downloading grpcio-1.60.0-cp310-cp310-manylinux_2_17_x86_64.manylinux2014_x86_64.whl (5.4 MB)\n",
      "\u001b[2K   \u001b[90m━━━━━━━━━━━━━━━━━━━━━━━━━━━━━━━━━━━━━━━━\u001b[0m \u001b[32m5.4/5.4 MB\u001b[0m \u001b[31m31.9 MB/s\u001b[0m eta \u001b[36m0:00:00\u001b[0m00:01\u001b[0m00:01\u001b[0mm\n",
      "\u001b[?25hDownloading h5py-3.10.0-cp310-cp310-manylinux_2_17_x86_64.manylinux2014_x86_64.whl (4.8 MB)\n",
      "\u001b[2K   \u001b[90m━━━━━━━━━━━━━━━━━━━━━━━━━━━━━━━━━━━━━━━━\u001b[0m \u001b[32m4.8/4.8 MB\u001b[0m \u001b[31m30.9 MB/s\u001b[0m eta \u001b[36m0:00:00\u001b[0m00:01\u001b[0m:00:01\u001b[0m\n",
      "\u001b[?25hDownloading keras-2.15.0-py3-none-any.whl (1.7 MB)\n",
      "\u001b[2K   \u001b[90m━━━━━━━━━━━━━━━━━━━━━━━━━━━━━━━━━━━━━━━━\u001b[0m \u001b[32m1.7/1.7 MB\u001b[0m \u001b[31m25.2 MB/s\u001b[0m eta \u001b[36m0:00:00\u001b[0m:00:01\u001b[0m\n",
      "\u001b[?25hDownloading libclang-16.0.6-py2.py3-none-manylinux2010_x86_64.whl (22.9 MB)\n",
      "\u001b[2K   \u001b[90m━━━━━━━━━━━━━━━━━━━━━━━━━━━━━━━━━━━━━━━━\u001b[0m \u001b[32m22.9/22.9 MB\u001b[0m \u001b[31m24.6 MB/s\u001b[0m eta \u001b[36m0:00:00\u001b[0m00:01\u001b[0m00:01\u001b[0m\n",
      "\u001b[?25hDownloading ml_dtypes-0.2.0-cp310-cp310-manylinux_2_17_x86_64.manylinux2014_x86_64.whl (1.0 MB)\n",
      "\u001b[2K   \u001b[90m━━━━━━━━━━━━━━━━━━━━━━━━━━━━━━━━━━━━━━━━\u001b[0m \u001b[32m1.0/1.0 MB\u001b[0m \u001b[31m17.0 MB/s\u001b[0m eta \u001b[36m0:00:00\u001b[0m:00:01\u001b[0m\n",
      "\u001b[?25hDownloading tensorboard-2.15.1-py3-none-any.whl (5.5 MB)\n",
      "\u001b[2K   \u001b[90m━━━━━━━━━━━━━━━━━━━━━━━━━━━━━━━━━━━━━━━━\u001b[0m \u001b[32m5.5/5.5 MB\u001b[0m \u001b[31m32.6 MB/s\u001b[0m eta \u001b[36m0:00:00\u001b[0m00:01\u001b[0m00:01\u001b[0mm\n",
      "\u001b[?25hDownloading protobuf-4.23.4-cp37-abi3-manylinux2014_x86_64.whl (304 kB)\n",
      "\u001b[2K   \u001b[90m━━━━━━━━━━━━━━━━━━━━━━━━━━━━━━━━━━━━━━━━\u001b[0m \u001b[32m304.5/304.5 kB\u001b[0m \u001b[31m6.3 MB/s\u001b[0m eta \u001b[36m0:00:00\u001b[0m:00:01\u001b[0m\n",
      "\u001b[?25hDownloading tensorflow_estimator-2.15.0-py2.py3-none-any.whl (441 kB)\n",
      "\u001b[2K   \u001b[90m━━━━━━━━━━━━━━━━━━━━━━━━━━━━━━━━━━━━━━━━\u001b[0m \u001b[32m442.0/442.0 kB\u001b[0m \u001b[31m6.7 MB/s\u001b[0m eta \u001b[36m0:00:00\u001b[0m:00:01\u001b[0m\n",
      "\u001b[?25hDownloading tensorflow_io_gcs_filesystem-0.35.0-cp310-cp310-manylinux_2_17_x86_64.manylinux2014_x86_64.whl (3.2 MB)\n",
      "\u001b[2K   \u001b[90m━━━━━━━━━━━━━━━━━━━━━━━━━━━━━━━━━━━━━━━━\u001b[0m \u001b[32m3.2/3.2 MB\u001b[0m \u001b[31m25.3 MB/s\u001b[0m eta \u001b[36m0:00:00\u001b[0m00:01\u001b[0m:00:01\u001b[0m\n",
      "\u001b[?25hDownloading termcolor-2.4.0-py3-none-any.whl (7.7 kB)\n",
      "Downloading google_auth-2.26.1-py2.py3-none-any.whl (186 kB)\n",
      "\u001b[2K   \u001b[90m━━━━━━━━━━━━━━━━━━━━━━━━━━━━━━━━━━━━━━━━\u001b[0m \u001b[32m186.4/186.4 kB\u001b[0m \u001b[31m4.5 MB/s\u001b[0m eta \u001b[36m0:00:00\u001b[0m:00:01\u001b[0m\n",
      "\u001b[?25hDownloading google_auth_oauthlib-1.2.0-py2.py3-none-any.whl (24 kB)\n",
      "Downloading Markdown-3.5.1-py3-none-any.whl (102 kB)\n",
      "\u001b[2K   \u001b[90m━━━━━━━━━━━━━━━━━━━━━━━━━━━━━━━━━━━━━━━━\u001b[0m \u001b[32m102.2/102.2 kB\u001b[0m \u001b[31m2.3 MB/s\u001b[0m eta \u001b[36m0:00:00\u001b[0mta \u001b[36m0:00:01\u001b[0m\n",
      "\u001b[?25hDownloading tensorboard_data_server-0.7.2-py3-none-manylinux_2_31_x86_64.whl (6.6 MB)\n",
      "\u001b[2K   \u001b[90m━━━━━━━━━━━━━━━━━━━━━━━━━━━━━━━━━━━━━━━━\u001b[0m \u001b[32m6.6/6.6 MB\u001b[0m \u001b[31m31.4 MB/s\u001b[0m eta \u001b[36m0:00:00\u001b[0m00:01\u001b[0m00:01\u001b[0mm\n",
      "\u001b[?25hDownloading werkzeug-3.0.1-py3-none-any.whl (226 kB)\n",
      "\u001b[2K   \u001b[90m━━━━━━━━━━━━━━━━━━━━━━━━━━━━━━━━━━━━━━━━\u001b[0m \u001b[32m226.7/226.7 kB\u001b[0m \u001b[31m5.1 MB/s\u001b[0m eta \u001b[36m0:00:00\u001b[0m:00:01\u001b[0m\n",
      "\u001b[?25hDownloading wheel-0.42.0-py3-none-any.whl (65 kB)\n",
      "\u001b[2K   \u001b[90m━━━━━━━━━━━━━━━━━━━━━━━━━━━━━━━━━━━━━━━━\u001b[0m \u001b[32m65.4/65.4 kB\u001b[0m \u001b[31m1.4 MB/s\u001b[0m eta \u001b[36m0:00:00\u001b[0meta \u001b[36m0:00:01\u001b[0m\n",
      "\u001b[?25hDownloading cachetools-5.3.2-py3-none-any.whl (9.3 kB)\n",
      "Downloading pyasn1-0.5.1-py2.py3-none-any.whl (84 kB)\n",
      "\u001b[2K   \u001b[90m━━━━━━━━━━━━━━━━━━━━━━━━━━━━━━━━━━━━━━━━\u001b[0m \u001b[32m84.9/84.9 kB\u001b[0m \u001b[31m1.8 MB/s\u001b[0m eta \u001b[36m0:00:00\u001b[0meta \u001b[36m0:00:01\u001b[0m\n",
      "\u001b[?25hInstalling collected packages: libclang, flatbuffers, wrapt, wheel, werkzeug, termcolor, tensorflow-io-gcs-filesystem, tensorflow-estimator, tensorboard-data-server, pyasn1, protobuf, opt-einsum, oauthlib, ml-dtypes, markdown, keras, h5py, grpcio, google-pasta, gast, cachetools, absl-py, rsa, requests-oauthlib, pyasn1-modules, astunparse, google-auth, google-auth-oauthlib, tensorboard, tensorflow\n",
      "Successfully installed absl-py-2.0.0 astunparse-1.6.3 cachetools-5.3.2 flatbuffers-23.5.26 gast-0.5.4 google-auth-2.26.1 google-auth-oauthlib-1.2.0 google-pasta-0.2.0 grpcio-1.60.0 h5py-3.10.0 keras-2.15.0 libclang-16.0.6 markdown-3.5.1 ml-dtypes-0.2.0 oauthlib-3.2.2 opt-einsum-3.3.0 protobuf-4.23.4 pyasn1-0.5.1 pyasn1-modules-0.3.0 requests-oauthlib-1.3.1 rsa-4.9 tensorboard-2.15.1 tensorboard-data-server-0.7.2 tensorflow-2.15.0.post1 tensorflow-estimator-2.15.0 tensorflow-io-gcs-filesystem-0.35.0 termcolor-2.4.0 werkzeug-3.0.1 wheel-0.42.0 wrapt-1.14.1\n",
      "\n",
      "\u001b[1m[\u001b[0m\u001b[34;49mnotice\u001b[0m\u001b[1;39;49m]\u001b[0m\u001b[39;49m A new release of pip is available: \u001b[0m\u001b[31;49m23.3.1\u001b[0m\u001b[39;49m -> \u001b[0m\u001b[32;49m23.3.2\u001b[0m\n",
      "\u001b[1m[\u001b[0m\u001b[34;49mnotice\u001b[0m\u001b[1;39;49m]\u001b[0m\u001b[39;49m To update, run: \u001b[0m\u001b[32;49mpip install --upgrade pip\u001b[0m\n",
      "Note: you may need to restart the kernel to use updated packages.\n"
     ]
    }
   ],
   "source": [
    "pip install tensorflow"
   ]
  },
  {
   "cell_type": "code",
   "execution_count": 2,
   "id": "9044ac8a",
   "metadata": {},
   "outputs": [
    {
     "name": "stderr",
     "output_type": "stream",
     "text": [
      "2024-01-06 16:14:49.004288: I external/local_tsl/tsl/cuda/cudart_stub.cc:31] Could not find cuda drivers on your machine, GPU will not be used.\n",
      "2024-01-06 16:14:49.228369: E external/local_xla/xla/stream_executor/cuda/cuda_dnn.cc:9261] Unable to register cuDNN factory: Attempting to register factory for plugin cuDNN when one has already been registered\n",
      "2024-01-06 16:14:49.228426: E external/local_xla/xla/stream_executor/cuda/cuda_fft.cc:607] Unable to register cuFFT factory: Attempting to register factory for plugin cuFFT when one has already been registered\n",
      "2024-01-06 16:14:49.262113: E external/local_xla/xla/stream_executor/cuda/cuda_blas.cc:1515] Unable to register cuBLAS factory: Attempting to register factory for plugin cuBLAS when one has already been registered\n",
      "2024-01-06 16:14:49.396885: I external/local_tsl/tsl/cuda/cudart_stub.cc:31] Could not find cuda drivers on your machine, GPU will not be used.\n",
      "2024-01-06 16:14:49.397810: I tensorflow/core/platform/cpu_feature_guard.cc:182] This TensorFlow binary is optimized to use available CPU instructions in performance-critical operations.\n",
      "To enable the following instructions: AVX2 FMA, in other operations, rebuild TensorFlow with the appropriate compiler flags.\n",
      "2024-01-06 16:14:50.929428: W tensorflow/compiler/tf2tensorrt/utils/py_utils.cc:38] TF-TRT Warning: Could not find TensorRT\n"
     ]
    }
   ],
   "source": [
    "import numpy as np\n",
    "import matplotlib.pyplot as plt\n",
    "import pandas as pd\n",
    "from sklearn import metrics\n",
    "from sklearn.model_selection import train_test_split\n",
    "\n",
    "import tensorflow as tf\n",
    "from tensorflow import keras\n",
    "from keras.models import Sequential\n",
    "from keras.layers import Dense\n",
    "from keras.layers import LSTM\n",
    "from keras.layers import Dropout\n",
    "from tensorflow.keras.callbacks import EarlyStopping\n",
    "#loading data\n",
    "file_1=\"/workspaces/State-of-Health-Estimation-Battery/Dataset/B0005_dis_dataset.csv\"\n",
    "dataset=pd.read_csv(file_1)"
   ]
  },
  {
   "cell_type": "code",
   "execution_count": 3,
   "id": "654c407e",
   "metadata": {},
   "outputs": [],
   "source": [
    "att=[\"cycle\",\"current_load\"]\n",
    "dataset[[\"Soh\"]]=dataset[[\"capacity\"]]/2"
   ]
  },
  {
   "cell_type": "code",
   "execution_count": 4,
   "id": "82d8aaa4",
   "metadata": {},
   "outputs": [],
   "source": [
    "Soh=dataset[\"capacity\"]/dataset[\"capacity\"][0]\n",
    "time=dataset[[\"time\"]]"
   ]
  },
  {
   "cell_type": "code",
   "execution_count": 5,
   "id": "e31103c6",
   "metadata": {
    "scrolled": true
   },
   "outputs": [],
   "source": [
    "# normalising data\n",
    "dataset=dataset[[\"cycle\",\"capacity\",\"voltage_measured\",\"current_measured\",\"temperature_measured\",\"current_load\",\"voltage_load\"]]\n",
    "df_norm = (dataset-dataset.min())/(dataset.max()-dataset.min())\n",
    "df_norm[\"time\"]=time\n",
    "df_norm[\"Soh\"]=Soh"
   ]
  },
  {
   "cell_type": "code",
   "execution_count": 6,
   "id": "a424cd2b",
   "metadata": {},
   "outputs": [],
   "source": [
    "att_=[\"cycle\",\"capacity\",\"voltage_measured\",\"current_measured\",\"temperature_measured\",\"current_load\",\"voltage_load\",\"time\"]"
   ]
  },
  {
   "cell_type": "code",
   "execution_count": 7,
   "id": "a018256c",
   "metadata": {},
   "outputs": [],
   "source": [
    "X = df_norm[att]\n",
    "Y = df_norm[[\"Soh\"]]"
   ]
  },
  {
   "cell_type": "code",
   "execution_count": 8,
   "id": "1c5da867",
   "metadata": {},
   "outputs": [],
   "source": [
    "X_train, X_test, y_train, y_test = train_test_split(X, Y, test_size=0.3, random_state=0)"
   ]
  },
  {
   "cell_type": "code",
   "execution_count": 9,
   "id": "8910210d",
   "metadata": {},
   "outputs": [],
   "source": [
    "#sorting data wrt to index\n",
    "X_test = X_test.sort_index(axis=0)\n",
    "X_train= X_train.sort_index(axis=0)\n",
    "y_train= y_train.sort_index(axis=0)\n",
    "y_test = y_test.sort_index(axis=0)"
   ]
  },
  {
   "cell_type": "code",
   "execution_count": 10,
   "id": "7ef61331",
   "metadata": {},
   "outputs": [
    {
     "name": "stdout",
     "output_type": "stream",
     "text": [
      "Model: \"sequential\"\n",
      "_________________________________________________________________\n",
      " Layer (type)                Output Shape              Param #   \n",
      "=================================================================\n",
      " lstm (LSTM)                 (None, 2, 128)            66560     \n",
      "                                                                 \n",
      " dropout (Dropout)           (None, 2, 128)            0         \n",
      "                                                                 \n",
      " lstm_1 (LSTM)               (None, 2, 64)             49408     \n",
      "                                                                 \n",
      " dropout_1 (Dropout)         (None, 2, 64)             0         \n",
      "                                                                 \n",
      " lstm_2 (LSTM)               (None, 64)                33024     \n",
      "                                                                 \n",
      " dropout_2 (Dropout)         (None, 64)                0         \n",
      "                                                                 \n",
      " dense (Dense)               (None, 1)                 65        \n",
      "                                                                 \n",
      "=================================================================\n",
      "Total params: 149057 (582.25 KB)\n",
      "Trainable params: 149057 (582.25 KB)\n",
      "Non-trainable params: 0 (0.00 Byte)\n",
      "_________________________________________________________________\n"
     ]
    }
   ],
   "source": [
    "#define lstm model we have 4 input variable so 3 layers\n",
    "#model.add(LSTM(128, activation='tanh',recurrent_activation='sigmoid',return_sequences=True,input_shape=(X_train.shape[1],1)))\n",
    "# Build the LSTM model\n",
    "model = Sequential()\n",
    "model.add(LSTM(128, activation='tanh', recurrent_activation='sigmoid', return_sequences=True, input_shape=(X_train.shape[1],1)))\n",
    "model.add(Dropout(0.25))\n",
    "model.add(LSTM(64, return_sequences=True))\n",
    "model.add(Dropout(0.25))\n",
    "model.add(LSTM(64))\n",
    "model.add(Dropout(0.25))\n",
    "model.add(Dense(1))\n",
    "\n",
    "model.compile(optimizer='adam', loss='mse')\n",
    "model.summary()"
   ]
  },
  {
   "cell_type": "code",
   "execution_count": 11,
   "id": "871a8ac5",
   "metadata": {},
   "outputs": [],
   "source": [
    "early_stopping = EarlyStopping(monitor='val_loss', patience=10, restore_best_weights=True)"
   ]
  },
  {
   "cell_type": "code",
   "execution_count": 12,
   "id": "4a51f5ce",
   "metadata": {
    "scrolled": false
   },
   "outputs": [
    {
     "name": "stdout",
     "output_type": "stream",
     "text": [
      "Epoch 1/200\n",
      "880/880 [==============================] - 10s 7ms/step - loss: 0.0242 - val_loss: 7.7164e-04\n",
      "Epoch 2/200\n",
      "880/880 [==============================] - 5s 6ms/step - loss: 0.0040 - val_loss: 0.0040\n",
      "Epoch 3/200\n",
      "880/880 [==============================] - 5s 6ms/step - loss: 0.0032 - val_loss: 0.0039\n",
      "Epoch 4/200\n",
      "880/880 [==============================] - 6s 7ms/step - loss: 0.0024 - val_loss: 1.4843e-04\n",
      "Epoch 5/200\n",
      "880/880 [==============================] - 16s 18ms/step - loss: 0.0017 - val_loss: 1.6044e-04\n",
      "Epoch 6/200\n",
      "880/880 [==============================] - 15s 17ms/step - loss: 0.0011 - val_loss: 2.5403e-04\n",
      "Epoch 7/200\n",
      "880/880 [==============================] - 7s 8ms/step - loss: 6.1258e-04 - val_loss: 1.5157e-04\n",
      "Epoch 8/200\n",
      "880/880 [==============================] - 5s 6ms/step - loss: 3.4632e-04 - val_loss: 3.6097e-04\n",
      "Epoch 9/200\n",
      "880/880 [==============================] - 5s 6ms/step - loss: 2.2075e-04 - val_loss: 1.8190e-04\n",
      "Epoch 10/200\n",
      "880/880 [==============================] - 5s 6ms/step - loss: 1.7449e-04 - val_loss: 2.1576e-04\n",
      "Epoch 11/200\n",
      "880/880 [==============================] - 5s 6ms/step - loss: 1.5664e-04 - val_loss: 8.3660e-05\n",
      "Epoch 12/200\n",
      "880/880 [==============================] - 5s 6ms/step - loss: 1.4936e-04 - val_loss: 7.5358e-05\n",
      "Epoch 13/200\n",
      "880/880 [==============================] - 5s 6ms/step - loss: 1.4295e-04 - val_loss: 4.6951e-05\n",
      "Epoch 14/200\n",
      "880/880 [==============================] - 5s 6ms/step - loss: 1.4065e-04 - val_loss: 4.7000e-05\n",
      "Epoch 15/200\n",
      "880/880 [==============================] - 5s 6ms/step - loss: 1.3575e-04 - val_loss: 1.4131e-04\n",
      "Epoch 16/200\n",
      "880/880 [==============================] - 5s 6ms/step - loss: 1.3353e-04 - val_loss: 4.8400e-05\n",
      "Epoch 17/200\n",
      "880/880 [==============================] - 5s 6ms/step - loss: 1.3322e-04 - val_loss: 9.0773e-05\n",
      "Epoch 18/200\n",
      "880/880 [==============================] - 5s 6ms/step - loss: 1.3293e-04 - val_loss: 4.6570e-05\n",
      "Epoch 19/200\n",
      "880/880 [==============================] - 5s 6ms/step - loss: 1.2869e-04 - val_loss: 9.4585e-05\n",
      "Epoch 20/200\n",
      "880/880 [==============================] - 6s 6ms/step - loss: 1.2925e-04 - val_loss: 1.3166e-04\n",
      "Epoch 21/200\n",
      "880/880 [==============================] - 6s 7ms/step - loss: 1.2742e-04 - val_loss: 7.6483e-05\n",
      "Epoch 22/200\n",
      "880/880 [==============================] - 5s 6ms/step - loss: 1.2634e-04 - val_loss: 3.8952e-05\n",
      "Epoch 23/200\n",
      "880/880 [==============================] - 8s 9ms/step - loss: 1.2735e-04 - val_loss: 9.1778e-05\n",
      "Epoch 24/200\n",
      "880/880 [==============================] - 5s 6ms/step - loss: 1.2692e-04 - val_loss: 8.5266e-05\n",
      "Epoch 25/200\n",
      "880/880 [==============================] - 5s 6ms/step - loss: 1.2502e-04 - val_loss: 4.3902e-05\n",
      "Epoch 26/200\n",
      "880/880 [==============================] - 5s 6ms/step - loss: 1.2474e-04 - val_loss: 4.1211e-05\n",
      "Epoch 27/200\n",
      "880/880 [==============================] - 5s 6ms/step - loss: 1.2219e-04 - val_loss: 3.9229e-05\n",
      "Epoch 28/200\n",
      "880/880 [==============================] - 5s 6ms/step - loss: 1.2371e-04 - val_loss: 4.2061e-05\n",
      "Epoch 29/200\n",
      "880/880 [==============================] - 5s 6ms/step - loss: 1.2179e-04 - val_loss: 3.7013e-05\n",
      "Epoch 30/200\n",
      "880/880 [==============================] - 5s 6ms/step - loss: 1.2183e-04 - val_loss: 9.8275e-05\n",
      "Epoch 31/200\n",
      "880/880 [==============================] - 5s 6ms/step - loss: 1.1984e-04 - val_loss: 3.5070e-05\n",
      "Epoch 32/200\n",
      "880/880 [==============================] - 5s 6ms/step - loss: 1.2225e-04 - val_loss: 4.8525e-05\n",
      "Epoch 33/200\n",
      "880/880 [==============================] - 5s 6ms/step - loss: 1.2017e-04 - val_loss: 4.8218e-05\n",
      "Epoch 34/200\n",
      "880/880 [==============================] - 6s 6ms/step - loss: 1.1806e-04 - val_loss: 4.1832e-05\n",
      "Epoch 35/200\n",
      "880/880 [==============================] - 5s 6ms/step - loss: 1.1941e-04 - val_loss: 3.7349e-05\n",
      "Epoch 36/200\n",
      "880/880 [==============================] - 5s 6ms/step - loss: 1.1963e-04 - val_loss: 1.1089e-04\n",
      "Epoch 37/200\n",
      "880/880 [==============================] - 6s 6ms/step - loss: 1.1964e-04 - val_loss: 1.1158e-04\n",
      "Epoch 38/200\n",
      "880/880 [==============================] - 5s 6ms/step - loss: 1.1927e-04 - val_loss: 7.7098e-05\n",
      "Epoch 39/200\n",
      "880/880 [==============================] - 5s 6ms/step - loss: 1.1821e-04 - val_loss: 3.4755e-05\n",
      "Epoch 40/200\n",
      "880/880 [==============================] - 5s 6ms/step - loss: 1.1919e-04 - val_loss: 1.6427e-04\n",
      "Epoch 41/200\n",
      "880/880 [==============================] - 5s 6ms/step - loss: 1.1787e-04 - val_loss: 6.9460e-05\n",
      "Epoch 42/200\n",
      "880/880 [==============================] - 5s 6ms/step - loss: 1.1590e-04 - val_loss: 5.9118e-05\n",
      "Epoch 43/200\n",
      "880/880 [==============================] - 5s 6ms/step - loss: 1.1825e-04 - val_loss: 1.5299e-04\n",
      "Epoch 44/200\n",
      "880/880 [==============================] - 5s 6ms/step - loss: 1.1812e-04 - val_loss: 1.6846e-04\n",
      "Epoch 45/200\n",
      "880/880 [==============================] - 5s 6ms/step - loss: 1.1668e-04 - val_loss: 1.6917e-04\n",
      "Epoch 46/200\n",
      "880/880 [==============================] - 5s 6ms/step - loss: 1.1954e-04 - val_loss: 1.1995e-04\n",
      "Epoch 47/200\n",
      "880/880 [==============================] - 5s 6ms/step - loss: 1.1491e-04 - val_loss: 1.2681e-04\n",
      "Epoch 48/200\n",
      "880/880 [==============================] - 5s 6ms/step - loss: 1.1691e-04 - val_loss: 1.7329e-04\n",
      "Epoch 49/200\n",
      "880/880 [==============================] - 5s 6ms/step - loss: 1.1601e-04 - val_loss: 2.0275e-04\n"
     ]
    },
    {
     "data": {
      "text/plain": [
       "<keras.src.callbacks.History at 0x7f40082a23b0>"
      ]
     },
     "execution_count": 12,
     "metadata": {},
     "output_type": "execute_result"
    }
   ],
   "source": [
    "model.fit(X_train, y_train, epochs=200,batch_size=32, verbose=1,validation_split=0.2, callbacks=[early_stopping])"
   ]
  },
  {
   "cell_type": "code",
   "execution_count": 13,
   "id": "80992531",
   "metadata": {
    "scrolled": false
   },
   "outputs": [
    {
     "name": "stdout",
     "output_type": "stream",
     "text": [
      "472/472 [==============================] - 2s 2ms/step\n"
     ]
    }
   ],
   "source": [
    "y_pred_1 = model.predict(X_test, verbose=1)"
   ]
  },
  {
   "cell_type": "code",
   "execution_count": 14,
   "id": "2ae95a89",
   "metadata": {},
   "outputs": [
    {
     "data": {
      "text/plain": [
       "array([[0.9979906 ],\n",
       "       [0.98997295],\n",
       "       [0.98997295],\n",
       "       ...,\n",
       "       [0.70050955],\n",
       "       [0.7005096 ],\n",
       "       [0.7005096 ]], dtype=float32)"
      ]
     },
     "execution_count": 14,
     "metadata": {},
     "output_type": "execute_result"
    }
   ],
   "source": [
    "y_pred_1"
   ]
  },
  {
   "cell_type": "code",
   "execution_count": 32,
   "id": "d972c045",
   "metadata": {
    "scrolled": true
   },
   "outputs": [
    {
     "data": {
      "image/png": "[encoded data removed]",
      "text/plain": [
       "<Figure size 640x480 with 1 Axes>"
      ]
     },
     "metadata": {},
     "output_type": "display_data"
    },
    {
     "name": "stdout",
     "output_type": "stream",
     "text": [
      "0.00869657655332687\n"
     ]
    }
   ],
   "source": [
    "plt.plot(X_test[\"cycle\"],y_test,color='red',label='actual',linewidth=4)\n",
    "plt.plot(X_test[\"cycle\"],y_pred_1,color='cyan',label=\"lstm\",linewidth=1)\n",
    "plt.xlabel(\"cycle\")\n",
    "plt.ylabel(\"SOH\")\n",
    "rmse=\"Rmse = \"+str(np.sqrt(metrics.mean_squared_error(y_test, y_pred_1)))\n",
    "plt.figtext(0.33, -0.03, rmse, fontsize=10)\n",
    "plt.legend(loc=\"upper right\")\n",
    "plt.suptitle(\"Lstm\")\n",
    "plt.show()\n",
    "print(np.sqrt(metrics.mean_squared_error(y_test, y_pred_1)))"
   ]
  },
  {
   "cell_type": "code",
   "execution_count": null,
   "id": "a90ee103",
   "metadata": {},
   "outputs": [],
   "source": [
    "0.0031518049884046912"
   ]
  }
 ],
 "metadata": {
  "kernelspec": {
   "display_name": "Python 3 (ipykernel)",
   "language": "python",
   "name": "python3"
  },
  "language_info": {
   "codemirror_mode": {
    "name": "ipython",
    "version": 3
   },
   "file_extension": ".py",
   "mimetype": "text/x-python",
   "name": "python",
   "nbconvert_exporter": "python",
   "pygments_lexer": "ipython3",
   "version": "3.10.13"
  }
 },
 "nbformat": 4,
 "nbformat_minor": 5
}
